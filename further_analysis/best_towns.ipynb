{
 "cells": [
  {
   "cell_type": "code",
   "execution_count": 16,
   "metadata": {},
   "outputs": [],
   "source": [
    "import pandas as pd"
   ]
  },
  {
   "cell_type": "code",
   "execution_count": 18,
   "metadata": {},
   "outputs": [
    {
     "data": {
      "text/html": [
       "<div>\n",
       "<style scoped>\n",
       "    .dataframe tbody tr th:only-of-type {\n",
       "        vertical-align: middle;\n",
       "    }\n",
       "\n",
       "    .dataframe tbody tr th {\n",
       "        vertical-align: top;\n",
       "    }\n",
       "\n",
       "    .dataframe thead th {\n",
       "        text-align: right;\n",
       "    }\n",
       "</style>\n",
       "<table border=\"1\" class=\"dataframe\">\n",
       "  <thead>\n",
       "    <tr style=\"text-align: right;\">\n",
       "      <th></th>\n",
       "      <th>index</th>\n",
       "      <th>Comune</th>\n",
       "    </tr>\n",
       "  </thead>\n",
       "  <tbody>\n",
       "    <tr>\n",
       "      <th>0</th>\n",
       "      <td>0</td>\n",
       "      <td>Adrara San Martino</td>\n",
       "    </tr>\n",
       "    <tr>\n",
       "      <th>1</th>\n",
       "      <td>1</td>\n",
       "      <td>Adrara San Rocco</td>\n",
       "    </tr>\n",
       "    <tr>\n",
       "      <th>2</th>\n",
       "      <td>2</td>\n",
       "      <td>Albano Sant'Alessandro</td>\n",
       "    </tr>\n",
       "    <tr>\n",
       "      <th>3</th>\n",
       "      <td>3</td>\n",
       "      <td>Albino</td>\n",
       "    </tr>\n",
       "    <tr>\n",
       "      <th>4</th>\n",
       "      <td>4</td>\n",
       "      <td>Algua</td>\n",
       "    </tr>\n",
       "    <tr>\n",
       "      <th>...</th>\n",
       "      <td>...</td>\n",
       "      <td>...</td>\n",
       "    </tr>\n",
       "    <tr>\n",
       "      <th>238</th>\n",
       "      <td>238</td>\n",
       "      <td>Villongo</td>\n",
       "    </tr>\n",
       "    <tr>\n",
       "      <th>239</th>\n",
       "      <td>239</td>\n",
       "      <td>Vilminore di Scalve</td>\n",
       "    </tr>\n",
       "    <tr>\n",
       "      <th>240</th>\n",
       "      <td>240</td>\n",
       "      <td>Zandobbio</td>\n",
       "    </tr>\n",
       "    <tr>\n",
       "      <th>241</th>\n",
       "      <td>241</td>\n",
       "      <td>Zanica</td>\n",
       "    </tr>\n",
       "    <tr>\n",
       "      <th>242</th>\n",
       "      <td>242</td>\n",
       "      <td>Zogno</td>\n",
       "    </tr>\n",
       "  </tbody>\n",
       "</table>\n",
       "<p>243 rows × 2 columns</p>\n",
       "</div>"
      ],
      "text/plain": [
       "     index                  Comune\n",
       "0        0      Adrara San Martino\n",
       "1        1        Adrara San Rocco\n",
       "2        2  Albano Sant'Alessandro\n",
       "3        3                  Albino\n",
       "4        4                   Algua\n",
       "..     ...                     ...\n",
       "238    238                Villongo\n",
       "239    239     Vilminore di Scalve\n",
       "240    240               Zandobbio\n",
       "241    241                  Zanica\n",
       "242    242                   Zogno\n",
       "\n",
       "[243 rows x 2 columns]"
      ]
     },
     "execution_count": 18,
     "metadata": {},
     "output_type": "execute_result"
    }
   ],
   "source": [
    "df_original"
   ]
  },
  {
   "cell_type": "code",
   "execution_count": 20,
   "metadata": {},
   "outputs": [
    {
     "data": {
      "text/html": [
       "<div>\n",
       "<style scoped>\n",
       "    .dataframe tbody tr th:only-of-type {\n",
       "        vertical-align: middle;\n",
       "    }\n",
       "\n",
       "    .dataframe tbody tr th {\n",
       "        vertical-align: top;\n",
       "    }\n",
       "\n",
       "    .dataframe thead th {\n",
       "        text-align: right;\n",
       "    }\n",
       "</style>\n",
       "<table border=\"1\" class=\"dataframe\">\n",
       "  <thead>\n",
       "    <tr style=\"text-align: right;\">\n",
       "      <th></th>\n",
       "      <th>index</th>\n",
       "      <th>Di che paese sei?</th>\n",
       "    </tr>\n",
       "  </thead>\n",
       "  <tbody>\n",
       "    <tr>\n",
       "      <th>0</th>\n",
       "      <td>Bergamo</td>\n",
       "      <td>60</td>\n",
       "    </tr>\n",
       "    <tr>\n",
       "      <th>1</th>\n",
       "      <td>Dalmine</td>\n",
       "      <td>32</td>\n",
       "    </tr>\n",
       "    <tr>\n",
       "      <th>2</th>\n",
       "      <td>Treviolo</td>\n",
       "      <td>29</td>\n",
       "    </tr>\n",
       "    <tr>\n",
       "      <th>3</th>\n",
       "      <td>Seriate</td>\n",
       "      <td>25</td>\n",
       "    </tr>\n",
       "    <tr>\n",
       "      <th>4</th>\n",
       "      <td>Stezzano</td>\n",
       "      <td>25</td>\n",
       "    </tr>\n",
       "    <tr>\n",
       "      <th>...</th>\n",
       "      <td>...</td>\n",
       "      <td>...</td>\n",
       "    </tr>\n",
       "    <tr>\n",
       "      <th>214</th>\n",
       "      <td>Spinone al Lago</td>\n",
       "      <td>1</td>\n",
       "    </tr>\n",
       "    <tr>\n",
       "      <th>215</th>\n",
       "      <td>Cerete</td>\n",
       "      <td>1</td>\n",
       "    </tr>\n",
       "    <tr>\n",
       "      <th>216</th>\n",
       "      <td>Brumano</td>\n",
       "      <td>1</td>\n",
       "    </tr>\n",
       "    <tr>\n",
       "      <th>217</th>\n",
       "      <td>Adrara San Rocco</td>\n",
       "      <td>1</td>\n",
       "    </tr>\n",
       "    <tr>\n",
       "      <th>218</th>\n",
       "      <td>Orio al Serio</td>\n",
       "      <td>1</td>\n",
       "    </tr>\n",
       "  </tbody>\n",
       "</table>\n",
       "<p>219 rows × 2 columns</p>\n",
       "</div>"
      ],
      "text/plain": [
       "                index  Di che paese sei?\n",
       "0             Bergamo                 60\n",
       "1             Dalmine                 32\n",
       "2            Treviolo                 29\n",
       "3             Seriate                 25\n",
       "4            Stezzano                 25\n",
       "..                ...                ...\n",
       "214   Spinone al Lago                  1\n",
       "215            Cerete                  1\n",
       "216           Brumano                  1\n",
       "217  Adrara San Rocco                  1\n",
       "218     Orio al Serio                  1\n",
       "\n",
       "[219 rows x 2 columns]"
      ]
     },
     "execution_count": 20,
     "metadata": {},
     "output_type": "execute_result"
    }
   ],
   "source": [
    "df=pd.read_excel('comesidice.xlsx', sheet_name='Risposte del modulo '+str(1), index_col=0)\n",
    "new_df=df['Di che paese sei?'].value_counts().reset_index()\n",
    "new_df"
   ]
  },
  {
   "cell_type": "code",
   "execution_count": 26,
   "metadata": {},
   "outputs": [
    {
     "name": "stderr",
     "output_type": "stream",
     "text": [
      "C:\\Users\\PietroBoschini\\AppData\\Local\\Temp\\ipykernel_13072\\1429829846.py:5: FutureWarning: Passing 'suffixes' which cause duplicate columns {'index_x'} in the result is deprecated and will raise a MergeError in a future version.\n",
      "  df_original = df_original.merge(new_df, left_on='Comune', right_on='index')\n",
      "C:\\Users\\PietroBoschini\\AppData\\Local\\Temp\\ipykernel_13072\\1429829846.py:5: FutureWarning: Passing 'suffixes' which cause duplicate columns {'Di che paese sei?_x'} in the result is deprecated and will raise a MergeError in a future version.\n",
      "  df_original = df_original.merge(new_df, left_on='Comune', right_on='index')\n",
      "C:\\Users\\PietroBoschini\\AppData\\Local\\Temp\\ipykernel_13072\\1429829846.py:5: FutureWarning: Passing 'suffixes' which cause duplicate columns {'index_x'} in the result is deprecated and will raise a MergeError in a future version.\n",
      "  df_original = df_original.merge(new_df, left_on='Comune', right_on='index')\n",
      "C:\\Users\\PietroBoschini\\AppData\\Local\\Temp\\ipykernel_13072\\1429829846.py:5: FutureWarning: Passing 'suffixes' which cause duplicate columns {'Di che paese sei?_x'} in the result is deprecated and will raise a MergeError in a future version.\n",
      "  df_original = df_original.merge(new_df, left_on='Comune', right_on='index')\n",
      "C:\\Users\\PietroBoschini\\AppData\\Local\\Temp\\ipykernel_13072\\1429829846.py:5: FutureWarning: Passing 'suffixes' which cause duplicate columns {'index_x'} in the result is deprecated and will raise a MergeError in a future version.\n",
      "  df_original = df_original.merge(new_df, left_on='Comune', right_on='index')\n",
      "C:\\Users\\PietroBoschini\\AppData\\Local\\Temp\\ipykernel_13072\\1429829846.py:5: FutureWarning: Passing 'suffixes' which cause duplicate columns {'Di che paese sei?_x'} in the result is deprecated and will raise a MergeError in a future version.\n",
      "  df_original = df_original.merge(new_df, left_on='Comune', right_on='index')\n",
      "C:\\Users\\PietroBoschini\\AppData\\Local\\Temp\\ipykernel_13072\\1429829846.py:5: FutureWarning: Passing 'suffixes' which cause duplicate columns {'index_x'} in the result is deprecated and will raise a MergeError in a future version.\n",
      "  df_original = df_original.merge(new_df, left_on='Comune', right_on='index')\n",
      "C:\\Users\\PietroBoschini\\AppData\\Local\\Temp\\ipykernel_13072\\1429829846.py:5: FutureWarning: Passing 'suffixes' which cause duplicate columns {'Di che paese sei?_x'} in the result is deprecated and will raise a MergeError in a future version.\n",
      "  df_original = df_original.merge(new_df, left_on='Comune', right_on='index')\n",
      "C:\\Users\\PietroBoschini\\AppData\\Local\\Temp\\ipykernel_13072\\1429829846.py:5: FutureWarning: Passing 'suffixes' which cause duplicate columns {'index_x'} in the result is deprecated and will raise a MergeError in a future version.\n",
      "  df_original = df_original.merge(new_df, left_on='Comune', right_on='index')\n",
      "C:\\Users\\PietroBoschini\\AppData\\Local\\Temp\\ipykernel_13072\\1429829846.py:5: FutureWarning: Passing 'suffixes' which cause duplicate columns {'Di che paese sei?_x'} in the result is deprecated and will raise a MergeError in a future version.\n",
      "  df_original = df_original.merge(new_df, left_on='Comune', right_on='index')\n",
      "C:\\Users\\PietroBoschini\\AppData\\Local\\Temp\\ipykernel_13072\\1429829846.py:5: FutureWarning: Passing 'suffixes' which cause duplicate columns {'index_x'} in the result is deprecated and will raise a MergeError in a future version.\n",
      "  df_original = df_original.merge(new_df, left_on='Comune', right_on='index')\n",
      "C:\\Users\\PietroBoschini\\AppData\\Local\\Temp\\ipykernel_13072\\1429829846.py:5: FutureWarning: Passing 'suffixes' which cause duplicate columns {'Di che paese sei?_x'} in the result is deprecated and will raise a MergeError in a future version.\n",
      "  df_original = df_original.merge(new_df, left_on='Comune', right_on='index')\n",
      "C:\\Users\\PietroBoschini\\AppData\\Local\\Temp\\ipykernel_13072\\1429829846.py:5: FutureWarning: Passing 'suffixes' which cause duplicate columns {'index_x'} in the result is deprecated and will raise a MergeError in a future version.\n",
      "  df_original = df_original.merge(new_df, left_on='Comune', right_on='index')\n",
      "C:\\Users\\PietroBoschini\\AppData\\Local\\Temp\\ipykernel_13072\\1429829846.py:5: FutureWarning: Passing 'suffixes' which cause duplicate columns {'Di che paese sei?_x'} in the result is deprecated and will raise a MergeError in a future version.\n",
      "  df_original = df_original.merge(new_df, left_on='Comune', right_on='index')\n",
      "C:\\Users\\PietroBoschini\\AppData\\Local\\Temp\\ipykernel_13072\\1429829846.py:5: FutureWarning: Passing 'suffixes' which cause duplicate columns {'index_x'} in the result is deprecated and will raise a MergeError in a future version.\n",
      "  df_original = df_original.merge(new_df, left_on='Comune', right_on='index')\n",
      "C:\\Users\\PietroBoschini\\AppData\\Local\\Temp\\ipykernel_13072\\1429829846.py:5: FutureWarning: Passing 'suffixes' which cause duplicate columns {'Di che paese sei?_x'} in the result is deprecated and will raise a MergeError in a future version.\n",
      "  df_original = df_original.merge(new_df, left_on='Comune', right_on='index')\n",
      "C:\\Users\\PietroBoschini\\AppData\\Local\\Temp\\ipykernel_13072\\1429829846.py:5: FutureWarning: Passing 'suffixes' which cause duplicate columns {'index_x'} in the result is deprecated and will raise a MergeError in a future version.\n",
      "  df_original = df_original.merge(new_df, left_on='Comune', right_on='index')\n",
      "C:\\Users\\PietroBoschini\\AppData\\Local\\Temp\\ipykernel_13072\\1429829846.py:5: FutureWarning: Passing 'suffixes' which cause duplicate columns {'Di che paese sei?_x'} in the result is deprecated and will raise a MergeError in a future version.\n",
      "  df_original = df_original.merge(new_df, left_on='Comune', right_on='index')\n",
      "C:\\Users\\PietroBoschini\\AppData\\Local\\Temp\\ipykernel_13072\\1429829846.py:5: FutureWarning: Passing 'suffixes' which cause duplicate columns {'index_x'} in the result is deprecated and will raise a MergeError in a future version.\n",
      "  df_original = df_original.merge(new_df, left_on='Comune', right_on='index')\n",
      "C:\\Users\\PietroBoschini\\AppData\\Local\\Temp\\ipykernel_13072\\1429829846.py:5: FutureWarning: Passing 'suffixes' which cause duplicate columns {'Di che paese sei?_x'} in the result is deprecated and will raise a MergeError in a future version.\n",
      "  df_original = df_original.merge(new_df, left_on='Comune', right_on='index')\n",
      "C:\\Users\\PietroBoschini\\AppData\\Local\\Temp\\ipykernel_13072\\1429829846.py:5: FutureWarning: Passing 'suffixes' which cause duplicate columns {'index_x'} in the result is deprecated and will raise a MergeError in a future version.\n",
      "  df_original = df_original.merge(new_df, left_on='Comune', right_on='index')\n",
      "C:\\Users\\PietroBoschini\\AppData\\Local\\Temp\\ipykernel_13072\\1429829846.py:5: FutureWarning: Passing 'suffixes' which cause duplicate columns {'Di che paese sei?_x'} in the result is deprecated and will raise a MergeError in a future version.\n",
      "  df_original = df_original.merge(new_df, left_on='Comune', right_on='index')\n",
      "C:\\Users\\PietroBoschini\\AppData\\Local\\Temp\\ipykernel_13072\\1429829846.py:5: FutureWarning: Passing 'suffixes' which cause duplicate columns {'index_x'} in the result is deprecated and will raise a MergeError in a future version.\n",
      "  df_original = df_original.merge(new_df, left_on='Comune', right_on='index')\n",
      "C:\\Users\\PietroBoschini\\AppData\\Local\\Temp\\ipykernel_13072\\1429829846.py:5: FutureWarning: Passing 'suffixes' which cause duplicate columns {'Di che paese sei?_x'} in the result is deprecated and will raise a MergeError in a future version.\n",
      "  df_original = df_original.merge(new_df, left_on='Comune', right_on='index')\n",
      "C:\\Users\\PietroBoschini\\AppData\\Local\\Temp\\ipykernel_13072\\1429829846.py:5: FutureWarning: Passing 'suffixes' which cause duplicate columns {'index_x'} in the result is deprecated and will raise a MergeError in a future version.\n",
      "  df_original = df_original.merge(new_df, left_on='Comune', right_on='index')\n",
      "C:\\Users\\PietroBoschini\\AppData\\Local\\Temp\\ipykernel_13072\\1429829846.py:5: FutureWarning: Passing 'suffixes' which cause duplicate columns {'Di che paese sei?_x'} in the result is deprecated and will raise a MergeError in a future version.\n",
      "  df_original = df_original.merge(new_df, left_on='Comune', right_on='index')\n",
      "C:\\Users\\PietroBoschini\\AppData\\Local\\Temp\\ipykernel_13072\\1429829846.py:5: FutureWarning: Passing 'suffixes' which cause duplicate columns {'index_x'} in the result is deprecated and will raise a MergeError in a future version.\n",
      "  df_original = df_original.merge(new_df, left_on='Comune', right_on='index')\n"
     ]
    }
   ],
   "source": [
    "df_original = pd.read_csv('ComuniFinal.csv').reset_index()\n",
    "for i in range(1, 30):\n",
    "    df=pd.read_excel('comesidice.xlsx', sheet_name='Risposte del modulo '+str(i), index_col=0)\n",
    "    new_df=df['Di che paese sei?'].value_counts().reset_index()\n",
    "    df_original = df_original.merge(new_df, left_on='Comune', right_on='index')"
   ]
  },
  {
   "cell_type": "code",
   "execution_count": 33,
   "metadata": {},
   "outputs": [],
   "source": [
    "df_original.set_index('Comune', inplace=True)"
   ]
  },
  {
   "cell_type": "code",
   "execution_count": 37,
   "metadata": {},
   "outputs": [
    {
     "data": {
      "text/plain": [
       "['Bergamo',\n",
       " 'Albino',\n",
       " 'Dalmine',\n",
       " 'Bonate Sopra',\n",
       " 'Bonate Sotto',\n",
       " 'Zogno',\n",
       " 'Treviolo',\n",
       " 'Stezzano',\n",
       " 'Seriate',\n",
       " 'Nembro']"
      ]
     },
     "execution_count": 37,
     "metadata": {},
     "output_type": "execute_result"
    }
   ],
   "source": [
    "df_original.sum(axis=1).sort_values(ascending=False).head(10).reset_index().Comune.to_list()"
   ]
  },
  {
   "cell_type": "code",
   "execution_count": 31,
   "metadata": {},
   "outputs": [
    {
     "ename": "KeyError",
     "evalue": "\"['index_x'] not found in axis\"",
     "output_type": "error",
     "traceback": [
      "\u001b[1;31m---------------------------------------------------------------------------\u001b[0m",
      "\u001b[1;31mKeyError\u001b[0m                                  Traceback (most recent call last)",
      "\u001b[1;32m~\\AppData\\Local\\Temp\\ipykernel_13072\\1881817755.py\u001b[0m in \u001b[0;36m?\u001b[1;34m()\u001b[0m\n\u001b[1;32m----> 1\u001b[1;33m \u001b[0mdf_original\u001b[0m\u001b[1;33m.\u001b[0m\u001b[0mdrop\u001b[0m\u001b[1;33m(\u001b[0m\u001b[0mcolumns\u001b[0m\u001b[1;33m=\u001b[0m\u001b[1;33m[\u001b[0m\u001b[1;34m'index_x'\u001b[0m\u001b[1;33m]\u001b[0m\u001b[1;33m,\u001b[0m \u001b[0minplace\u001b[0m\u001b[1;33m=\u001b[0m\u001b[1;32mTrue\u001b[0m\u001b[1;33m)\u001b[0m\u001b[1;33m\u001b[0m\u001b[1;33m\u001b[0m\u001b[0m\n\u001b[0m\u001b[0;32m      2\u001b[0m \u001b[0mdf_original\u001b[0m\u001b[1;33m\u001b[0m\u001b[1;33m\u001b[0m\u001b[0m\n",
      "\u001b[1;32mc:\\Users\\PietroBoschini\\.virtualenvs\\BergaWords-Tvp1dCaS\\lib\\site-packages\\pandas\\util\\_decorators.py\u001b[0m in \u001b[0;36m?\u001b[1;34m(*args, **kwargs)\u001b[0m\n\u001b[0;32m    327\u001b[0m                     \u001b[0mmsg\u001b[0m\u001b[1;33m.\u001b[0m\u001b[0mformat\u001b[0m\u001b[1;33m(\u001b[0m\u001b[0marguments\u001b[0m\u001b[1;33m=\u001b[0m\u001b[0m_format_argument_list\u001b[0m\u001b[1;33m(\u001b[0m\u001b[0mallow_args\u001b[0m\u001b[1;33m)\u001b[0m\u001b[1;33m)\u001b[0m\u001b[1;33m,\u001b[0m\u001b[1;33m\u001b[0m\u001b[1;33m\u001b[0m\u001b[0m\n\u001b[0;32m    328\u001b[0m                     \u001b[0mFutureWarning\u001b[0m\u001b[1;33m,\u001b[0m\u001b[1;33m\u001b[0m\u001b[1;33m\u001b[0m\u001b[0m\n\u001b[0;32m    329\u001b[0m                     \u001b[0mstacklevel\u001b[0m\u001b[1;33m=\u001b[0m\u001b[0mfind_stack_level\u001b[0m\u001b[1;33m(\u001b[0m\u001b[1;33m)\u001b[0m\u001b[1;33m,\u001b[0m\u001b[1;33m\u001b[0m\u001b[1;33m\u001b[0m\u001b[0m\n\u001b[0;32m    330\u001b[0m                 )\n\u001b[1;32m--> 331\u001b[1;33m             \u001b[1;32mreturn\u001b[0m \u001b[0mfunc\u001b[0m\u001b[1;33m(\u001b[0m\u001b[1;33m*\u001b[0m\u001b[0margs\u001b[0m\u001b[1;33m,\u001b[0m \u001b[1;33m**\u001b[0m\u001b[0mkwargs\u001b[0m\u001b[1;33m)\u001b[0m\u001b[1;33m\u001b[0m\u001b[1;33m\u001b[0m\u001b[0m\n\u001b[0m",
      "\u001b[1;32mc:\\Users\\PietroBoschini\\.virtualenvs\\BergaWords-Tvp1dCaS\\lib\\site-packages\\pandas\\core\\frame.py\u001b[0m in \u001b[0;36m?\u001b[1;34m(self, labels, axis, index, columns, level, inplace, errors)\u001b[0m\n\u001b[0;32m   5392\u001b[0m                 \u001b[0mweight\u001b[0m  \u001b[1;36m250.0\u001b[0m   \u001b[1;36m150.0\u001b[0m\u001b[1;33m\u001b[0m\u001b[1;33m\u001b[0m\u001b[0m\n\u001b[0;32m   5393\u001b[0m         \u001b[0mfalcon\u001b[0m  \u001b[0mspeed\u001b[0m   \u001b[1;36m320.0\u001b[0m   \u001b[1;36m250.0\u001b[0m\u001b[1;33m\u001b[0m\u001b[1;33m\u001b[0m\u001b[0m\n\u001b[0;32m   5394\u001b[0m                 \u001b[0mweight\u001b[0m  \u001b[1;36m1.0\u001b[0m     \u001b[1;36m0.8\u001b[0m\u001b[1;33m\u001b[0m\u001b[1;33m\u001b[0m\u001b[0m\n\u001b[0;32m   5395\u001b[0m         \"\"\"\n\u001b[1;32m-> 5396\u001b[1;33m         return super().drop(\n\u001b[0m\u001b[0;32m   5397\u001b[0m             \u001b[0mlabels\u001b[0m\u001b[1;33m=\u001b[0m\u001b[0mlabels\u001b[0m\u001b[1;33m,\u001b[0m\u001b[1;33m\u001b[0m\u001b[1;33m\u001b[0m\u001b[0m\n\u001b[0;32m   5398\u001b[0m             \u001b[0maxis\u001b[0m\u001b[1;33m=\u001b[0m\u001b[0maxis\u001b[0m\u001b[1;33m,\u001b[0m\u001b[1;33m\u001b[0m\u001b[1;33m\u001b[0m\u001b[0m\n\u001b[0;32m   5399\u001b[0m             \u001b[0mindex\u001b[0m\u001b[1;33m=\u001b[0m\u001b[0mindex\u001b[0m\u001b[1;33m,\u001b[0m\u001b[1;33m\u001b[0m\u001b[1;33m\u001b[0m\u001b[0m\n",
      "\u001b[1;32mc:\\Users\\PietroBoschini\\.virtualenvs\\BergaWords-Tvp1dCaS\\lib\\site-packages\\pandas\\util\\_decorators.py\u001b[0m in \u001b[0;36m?\u001b[1;34m(*args, **kwargs)\u001b[0m\n\u001b[0;32m    327\u001b[0m                     \u001b[0mmsg\u001b[0m\u001b[1;33m.\u001b[0m\u001b[0mformat\u001b[0m\u001b[1;33m(\u001b[0m\u001b[0marguments\u001b[0m\u001b[1;33m=\u001b[0m\u001b[0m_format_argument_list\u001b[0m\u001b[1;33m(\u001b[0m\u001b[0mallow_args\u001b[0m\u001b[1;33m)\u001b[0m\u001b[1;33m)\u001b[0m\u001b[1;33m,\u001b[0m\u001b[1;33m\u001b[0m\u001b[1;33m\u001b[0m\u001b[0m\n\u001b[0;32m    328\u001b[0m                     \u001b[0mFutureWarning\u001b[0m\u001b[1;33m,\u001b[0m\u001b[1;33m\u001b[0m\u001b[1;33m\u001b[0m\u001b[0m\n\u001b[0;32m    329\u001b[0m                     \u001b[0mstacklevel\u001b[0m\u001b[1;33m=\u001b[0m\u001b[0mfind_stack_level\u001b[0m\u001b[1;33m(\u001b[0m\u001b[1;33m)\u001b[0m\u001b[1;33m,\u001b[0m\u001b[1;33m\u001b[0m\u001b[1;33m\u001b[0m\u001b[0m\n\u001b[0;32m    330\u001b[0m                 )\n\u001b[1;32m--> 331\u001b[1;33m             \u001b[1;32mreturn\u001b[0m \u001b[0mfunc\u001b[0m\u001b[1;33m(\u001b[0m\u001b[1;33m*\u001b[0m\u001b[0margs\u001b[0m\u001b[1;33m,\u001b[0m \u001b[1;33m**\u001b[0m\u001b[0mkwargs\u001b[0m\u001b[1;33m)\u001b[0m\u001b[1;33m\u001b[0m\u001b[1;33m\u001b[0m\u001b[0m\n\u001b[0m",
      "\u001b[1;32mc:\\Users\\PietroBoschini\\.virtualenvs\\BergaWords-Tvp1dCaS\\lib\\site-packages\\pandas\\core\\generic.py\u001b[0m in \u001b[0;36m?\u001b[1;34m(self, labels, axis, index, columns, level, inplace, errors)\u001b[0m\n\u001b[0;32m   4501\u001b[0m         \u001b[0mobj\u001b[0m \u001b[1;33m=\u001b[0m \u001b[0mself\u001b[0m\u001b[1;33m\u001b[0m\u001b[1;33m\u001b[0m\u001b[0m\n\u001b[0;32m   4502\u001b[0m \u001b[1;33m\u001b[0m\u001b[0m\n\u001b[0;32m   4503\u001b[0m         \u001b[1;32mfor\u001b[0m \u001b[0maxis\u001b[0m\u001b[1;33m,\u001b[0m \u001b[0mlabels\u001b[0m \u001b[1;32min\u001b[0m \u001b[0maxes\u001b[0m\u001b[1;33m.\u001b[0m\u001b[0mitems\u001b[0m\u001b[1;33m(\u001b[0m\u001b[1;33m)\u001b[0m\u001b[1;33m:\u001b[0m\u001b[1;33m\u001b[0m\u001b[1;33m\u001b[0m\u001b[0m\n\u001b[0;32m   4504\u001b[0m             \u001b[1;32mif\u001b[0m \u001b[0mlabels\u001b[0m \u001b[1;32mis\u001b[0m \u001b[1;32mnot\u001b[0m \u001b[1;32mNone\u001b[0m\u001b[1;33m:\u001b[0m\u001b[1;33m\u001b[0m\u001b[1;33m\u001b[0m\u001b[0m\n\u001b[1;32m-> 4505\u001b[1;33m                 \u001b[0mobj\u001b[0m \u001b[1;33m=\u001b[0m \u001b[0mobj\u001b[0m\u001b[1;33m.\u001b[0m\u001b[0m_drop_axis\u001b[0m\u001b[1;33m(\u001b[0m\u001b[0mlabels\u001b[0m\u001b[1;33m,\u001b[0m \u001b[0maxis\u001b[0m\u001b[1;33m,\u001b[0m \u001b[0mlevel\u001b[0m\u001b[1;33m=\u001b[0m\u001b[0mlevel\u001b[0m\u001b[1;33m,\u001b[0m \u001b[0merrors\u001b[0m\u001b[1;33m=\u001b[0m\u001b[0merrors\u001b[0m\u001b[1;33m)\u001b[0m\u001b[1;33m\u001b[0m\u001b[1;33m\u001b[0m\u001b[0m\n\u001b[0m\u001b[0;32m   4506\u001b[0m \u001b[1;33m\u001b[0m\u001b[0m\n\u001b[0;32m   4507\u001b[0m         \u001b[1;32mif\u001b[0m \u001b[0minplace\u001b[0m\u001b[1;33m:\u001b[0m\u001b[1;33m\u001b[0m\u001b[1;33m\u001b[0m\u001b[0m\n\u001b[0;32m   4508\u001b[0m             \u001b[0mself\u001b[0m\u001b[1;33m.\u001b[0m\u001b[0m_update_inplace\u001b[0m\u001b[1;33m(\u001b[0m\u001b[0mobj\u001b[0m\u001b[1;33m)\u001b[0m\u001b[1;33m\u001b[0m\u001b[1;33m\u001b[0m\u001b[0m\n",
      "\u001b[1;32mc:\\Users\\PietroBoschini\\.virtualenvs\\BergaWords-Tvp1dCaS\\lib\\site-packages\\pandas\\core\\generic.py\u001b[0m in \u001b[0;36m?\u001b[1;34m(self, labels, axis, level, errors, only_slice)\u001b[0m\n\u001b[0;32m   4571\u001b[0m                 \u001b[0mmask\u001b[0m \u001b[1;33m=\u001b[0m \u001b[1;33m~\u001b[0m\u001b[0maxis\u001b[0m\u001b[1;33m.\u001b[0m\u001b[0misin\u001b[0m\u001b[1;33m(\u001b[0m\u001b[0mlabels\u001b[0m\u001b[1;33m)\u001b[0m\u001b[1;33m\u001b[0m\u001b[1;33m\u001b[0m\u001b[0m\n\u001b[0;32m   4572\u001b[0m                 \u001b[1;31m# Check if label doesn't exist along axis\u001b[0m\u001b[1;33m\u001b[0m\u001b[1;33m\u001b[0m\u001b[0m\n\u001b[0;32m   4573\u001b[0m                 \u001b[0mlabels_missing\u001b[0m \u001b[1;33m=\u001b[0m \u001b[1;33m(\u001b[0m\u001b[0maxis\u001b[0m\u001b[1;33m.\u001b[0m\u001b[0mget_indexer_for\u001b[0m\u001b[1;33m(\u001b[0m\u001b[0mlabels\u001b[0m\u001b[1;33m)\u001b[0m \u001b[1;33m==\u001b[0m \u001b[1;33m-\u001b[0m\u001b[1;36m1\u001b[0m\u001b[1;33m)\u001b[0m\u001b[1;33m.\u001b[0m\u001b[0many\u001b[0m\u001b[1;33m(\u001b[0m\u001b[1;33m)\u001b[0m\u001b[1;33m\u001b[0m\u001b[1;33m\u001b[0m\u001b[0m\n\u001b[0;32m   4574\u001b[0m                 \u001b[1;32mif\u001b[0m \u001b[0merrors\u001b[0m \u001b[1;33m==\u001b[0m \u001b[1;34m\"raise\"\u001b[0m \u001b[1;32mand\u001b[0m \u001b[0mlabels_missing\u001b[0m\u001b[1;33m:\u001b[0m\u001b[1;33m\u001b[0m\u001b[1;33m\u001b[0m\u001b[0m\n\u001b[1;32m-> 4575\u001b[1;33m                     \u001b[1;32mraise\u001b[0m \u001b[0mKeyError\u001b[0m\u001b[1;33m(\u001b[0m\u001b[1;34mf\"{labels} not found in axis\"\u001b[0m\u001b[1;33m)\u001b[0m\u001b[1;33m\u001b[0m\u001b[1;33m\u001b[0m\u001b[0m\n\u001b[0m\u001b[0;32m   4576\u001b[0m \u001b[1;33m\u001b[0m\u001b[0m\n\u001b[0;32m   4577\u001b[0m             \u001b[1;32mif\u001b[0m \u001b[0mis_extension_array_dtype\u001b[0m\u001b[1;33m(\u001b[0m\u001b[0mmask\u001b[0m\u001b[1;33m.\u001b[0m\u001b[0mdtype\u001b[0m\u001b[1;33m)\u001b[0m\u001b[1;33m:\u001b[0m\u001b[1;33m\u001b[0m\u001b[1;33m\u001b[0m\u001b[0m\n\u001b[0;32m   4578\u001b[0m                 \u001b[1;31m# GH#45860\u001b[0m\u001b[1;33m\u001b[0m\u001b[1;33m\u001b[0m\u001b[0m\n",
      "\u001b[1;31mKeyError\u001b[0m: \"['index_x'] not found in axis\""
     ]
    }
   ],
   "source": [
    "df_original.drop(columns=['index_x'], inplace=True)\n"
   ]
  }
 ],
 "metadata": {
  "kernelspec": {
   "display_name": "BergaWords-Tvp1dCaS",
   "language": "python",
   "name": "python3"
  },
  "language_info": {
   "codemirror_mode": {
    "name": "ipython",
    "version": 3
   },
   "file_extension": ".py",
   "mimetype": "text/x-python",
   "name": "python",
   "nbconvert_exporter": "python",
   "pygments_lexer": "ipython3",
   "version": "3.10.11"
  }
 },
 "nbformat": 4,
 "nbformat_minor": 2
}
