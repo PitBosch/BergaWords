{
 "cells": [
  {
   "cell_type": "code",
   "execution_count": 1,
   "metadata": {},
   "outputs": [],
   "source": [
    "## In questo notebook l'idea è di mettere insieme i diversi dati in modo da avere una matrice unica\n",
    "import pandas as pd\n",
    "import plotly.express as px\n",
    "import json\n",
    "from statistics import mode\n",
    "with open(\"data/BergamoGiusto.geojson\") as f:\n",
    "    paesi = json.load(f)\n",
    "\n",
    "comuni=pd.read_csv(\"data/ComuniFinal.csv\")\n",
    "file=\"https://docs.google.com/spreadsheets/d/166me1IufiXYAHhRL6sgrXJxJTE1fVXQ-RegqU1LqEFY/export?format=csv\"\n",
    "SHEET_ID = '166me1IufiXYAHhRL6sgrXJxJTE1fVXQ-RegqU1LqEFY'\n",
    "list_of_df=[]\n",
    "for i in range(1,15):\n",
    "    SHEET_NAME = 'Risposte%20del%20modulo%20'+f'{i}'\n",
    "    url = f'https://docs.google.com/spreadsheets/d/{SHEET_ID}/gviz/tq?tqx=out:csv&sheet={SHEET_NAME}'\n",
    "    df=pd.read_csv(url)\n",
    "    new=comuni.merge(df, left_on='Comune', right_on='Di che paese sei?', how='outer')\n",
    "    final=new.groupby('Comune')[new.columns[3]].agg(lambda x: mode(x)).reset_index()\n",
    "    final.head(20)\n",
    "    final=final.fillna(\"Nessun Dato\")\n",
    "\n",
    "    final.columns[1]\n",
    "    fig = px.choropleth_mapbox(final, geojson=paesi, locations=\"Comune\", color=final.columns[1], featureidkey=\"properties.name\", \n",
    "                            mapbox_style=\"carto-positron\",\n",
    "                            color_discrete_map={\n",
    "                    \"Nessun Dato\": \"grey\"},center={'lat':45.742,'lon':9.5688})\n",
    "    fig.update_layout(margin={\"r\":0,\"t\":0,\"l\":0,\"b\":0})\n",
    "    nome=final.columns[1][10:-1]\n",
    "    fig.write_json('static/plotly/'+nome+\".json\")"
   ]
  }
 ],
 "metadata": {
  "kernelspec": {
   "display_name": "ABGD-BoRABtNY",
   "language": "python",
   "name": "python3"
  },
  "language_info": {
   "codemirror_mode": {
    "name": "ipython",
    "version": 3
   },
   "file_extension": ".py",
   "mimetype": "text/x-python",
   "name": "python",
   "nbconvert_exporter": "python",
   "pygments_lexer": "ipython3",
   "version": "3.10.11"
  },
  "orig_nbformat": 4
 },
 "nbformat": 4,
 "nbformat_minor": 2
}
